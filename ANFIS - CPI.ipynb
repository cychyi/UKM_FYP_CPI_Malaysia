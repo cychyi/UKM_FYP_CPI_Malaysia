{
 "cells": [
  {
   "cell_type": "code",
   "execution_count": 2,
   "id": "798460ff",
   "metadata": {},
   "outputs": [],
   "source": [
    "import anfis\n",
    "from anfis import mfDerivs\n",
    "from anfis import membershipfunction\n",
    "from anfis import anfis2\n",
    "import numpy as np\n",
    "import pandas as pd"
   ]
  },
  {
   "cell_type": "code",
   "execution_count": 3,
   "id": "a2d11136",
   "metadata": {},
   "outputs": [
    {
     "name": "stdout",
     "output_type": "stream",
     "text": [
      "[[ 20  20]\n",
      " [ 20  24]\n",
      " [ 20  28]\n",
      " ...\n",
      " [108 100]\n",
      " [108 104]\n",
      " [108 108]]\n",
      "number of elements: 529\n",
      "[ 23.4  23.3  23.3  23.2  23.   22.8  22.8  22.7  22.7  22.7  22.7  22.7\n",
      "  22.7  22.7  22.7  22.6  22.7  22.7  22.7  22.7  23.   23.   23.2  23.3\n",
      "  23.4  23.4  23.3  23.3  23.3  23.3  23.4  23.3  23.4  23.4  23.5  23.5\n",
      "  23.9  24.   23.8  23.6  23.5  23.5  23.4  23.5  23.6  23.9  24.   24.2\n",
      "  24.3  24.3  24.3  24.4  24.3  24.4  24.5  24.5  24.6  24.6  24.7  25.\n",
      "  25.3  25.5  25.5  25.8  26.4  26.7  27.2  27.5  28.1  28.5  29.2  29.6\n",
      "  29.9  30.9  31.5  31.2  31.5  31.7  31.9  32.2  32.3  32.5  32.9  33.2\n",
      "  33.4  33.5  33.1  33.   33.   33.   33.   33.2  33.4  33.3  33.   33.5\n",
      "  33.9  33.6  33.7  33.6  33.7  34.1  34.1  34.2  34.3  34.3  34.3  34.8\n",
      "  35.3  35.3  35.3  35.1  35.3  35.4  35.6  35.9  36.2  36.2  36.4  36.6\n",
      "  36.6  36.9  36.7  36.7  37.   37.6  37.5  38.1  38.1  38.1  38.1  38.1\n",
      "  38.1  38.2  38.3  38.3  38.6  38.6  38.8  39.1  39.4  39.3  39.5  40.1\n",
      "  40.2  40.4  40.4  40.2  40.6  41.   41.3  41.7  41.6  41.8  42.4  42.7\n",
      "  43.5  44.   44.4  44.6  44.8  45.1  45.5  45.8  46.   46.   46.1  46.3\n",
      "  46.8  47.1  47.2  47.4  47.5  47.7  48.   48.1  48.1  48.   48.5  48.7\n",
      "  49.2  49.   49.1  49.1  49.4  49.5  49.6  49.6  49.8  49.9  50.   50.3\n",
      "  51.2  51.8  51.1  51.1  51.1  51.1  51.5  51.5  51.5  51.4  51.1  51.1\n",
      "  51.2  51.3  51.4  51.3  51.3  51.5  51.8  51.9  51.7  51.5  51.5  51.7\n",
      "  51.8  51.9  51.8  51.5  51.7  51.7  51.7  51.7  51.8  51.9  52.1  52.2\n",
      "  52.1  52.1  51.9  52.1  52.2  52.3  52.2  52.2  52.3  52.4  52.5  52.7\n",
      "  52.8  52.9  53.   53.   53.   53.5  53.9  53.9  54.   53.9  54.2  54.6\n",
      "  54.6  54.6  54.6  54.7  54.9  54.9  55.1  55.2  55.3  55.3  55.6  55.8\n",
      "  56.1  56.3  56.3  56.6  56.8  56.7  56.6  56.5  56.8  57.2  57.5  57.8\n",
      "  58.   58.3  58.5  58.9  59.1  59.6  59.4  59.5  59.4  59.6  59.9  60.4\n",
      "  60.6  60.9  61.1  61.5  62.1  62.2  62.3  62.5  62.5  62.5  63.   63.2\n",
      "  63.3  63.5  63.6  63.9  64.   64.2  64.6  64.4  64.4  64.6  64.9  65.4\n",
      "  65.7  66.3  66.1  66.1  66.2  66.1  66.6  66.7  67.   67.1  67.5  67.7\n",
      "  68.   68.4  68.3  68.3  68.8  68.8  68.9  69.   69.3  69.4  69.7  69.9\n",
      "  70.3  70.8  70.5  70.9  71.2  71.3  71.5  71.5  71.8  71.8  72.   72.2\n",
      "  72.5  72.9  72.8  72.7  73.   72.9  73.   73.2  73.4  73.7  73.9  74.3\n",
      "  75.   76.1  76.6  76.7  76.9  77.5  77.3  77.4  77.5  77.5  78.1  78.2\n",
      "  78.9  79.   78.9  78.9  79.2  79.1  79.2  79.1  79.1  79.1  79.4  80.2\n",
      "  80.2  80.3  80.2  80.2  80.3  80.3  80.4  80.4  80.4  80.6  80.8  81.1\n",
      "  81.4  81.5  81.4  81.5  81.5  81.5  81.5  81.4  81.5  81.4  82.   82.1\n",
      "  82.3  82.5  83.1  83.   83.1  83.2  83.2  83.1  83.2  83.1  83.3  83.4\n",
      "  83.6  83.8  83.6  83.8  83.9  83.8  83.9  83.9  84.   84.1  84.2  84.4\n",
      "  84.4  84.5  84.4  84.6  84.8  84.9  85.1  85.1  85.4  85.9  86.1  86.2\n",
      "  86.5  86.6  86.6  86.8  87.5  87.6  87.6  88.2  88.4  88.6  88.9  89.\n",
      "  89.3  89.4  90.7  90.7  90.9  91.1  91.2  91.1  91.3  91.3  91.6  91.8\n",
      "  92.2  92.2  92.1  92.1  92.2  92.4  92.7  92.9  93.   93.1  93.7  93.9\n",
      "  94.3  94.6  94.6  94.9  95.7  99.5 100.6 100.8 100.6 100.2  99.   98.1\n",
      "  98.   98.2  98.   97.8  98.   98.1  98.2  98.3  98.6  98.7  98.9  99.1\n",
      "  99.4  99.4  99.4  99.4  99.6  99.7 100.  100.3 100.4 100.6 100.8 101.2\n",
      " 101.8 102.3 102.4 102.6 102.9 103.2 103.4 103.6 103.8 104.  104.1 104.2\n",
      " 104.5]\n",
      "number of elements: 529\n"
     ]
    }
   ],
   "source": [
    "ts = np.loadtxt(\"/Library/Frameworks/Python.framework/Versions/3.9/lib/python3.9/site-packages/anfis/trainingSet.txt\", usecols=[1,2,3])#numpy.loadtxt('c:\\\\Python_fiddling\\\\myProject\\\\MF\\\\trainingSet.txt',usecols=[1,2,3])\n",
    "df=pd.read_csv('/Users/chamyingchyi/Desktop/Academic Purpose/FYP/Dataset/Cleaned_Data.csv', encoding='utf-8')\n",
    "df1=df[[\"CPI\"]]\n",
    "test_set =df.iloc[529:657,1:2].values\n",
    "train_set=df.iloc[0:529,1:2].values\n",
    "dfx=pd.read_csv(\"/Users/chamyingchyi/Desktop/Academic Purpose/FYP/Dataset/ANFISX.csv\")\n",
    "\n",
    "X = ts[:,0:2]\n",
    "Y = ts[:,2]\n",
    "R = dfx.iloc[0:529,0:2].values\n",
    "R1 = train_set.flatten()\n",
    "\n",
    "print(R)\n",
    "print(\"number of elements:\",len(train_set))\n",
    "\n",
    "print(R1)\n",
    "print(\"number of elements:\",len(R1))"
   ]
  },
  {
   "cell_type": "code",
   "execution_count": 5,
   "id": "62650314",
   "metadata": {},
   "outputs": [
    {
     "name": "stdout",
     "output_type": "stream",
     "text": [
      "current error: 1682.6692819369748\n",
      "current error: 1682.6695099322083\n",
      "current error: 1682.6697192519296\n"
     ]
    },
    {
     "ename": "KeyboardInterrupt",
     "evalue": "",
     "output_type": "error",
     "traceback": [
      "\u001b[0;31m---------------------------------------------------------------------------\u001b[0m",
      "\u001b[0;31mKeyboardInterrupt\u001b[0m                         Traceback (most recent call last)",
      "Input \u001b[0;32mIn [5]\u001b[0m, in \u001b[0;36m<cell line: 7>\u001b[0;34m()\u001b[0m\n\u001b[1;32m      5\u001b[0m mfc \u001b[38;5;241m=\u001b[39m anfis\u001b[38;5;241m.\u001b[39mmembershipfunction\u001b[38;5;241m.\u001b[39mMemFuncs(mf)\n\u001b[1;32m      6\u001b[0m anf \u001b[38;5;241m=\u001b[39m anfis2\u001b[38;5;241m.\u001b[39mANFIS(R, R1, mfc)\n\u001b[0;32m----> 7\u001b[0m \u001b[43manf\u001b[49m\u001b[38;5;241;43m.\u001b[39;49m\u001b[43mtrainHybridJangOffLine\u001b[49m\u001b[43m(\u001b[49m\u001b[43mepochs\u001b[49m\u001b[38;5;241;43m=\u001b[39;49m\u001b[38;5;241;43m20\u001b[39;49m\u001b[43m)\u001b[49m\n\u001b[1;32m      8\u001b[0m \u001b[38;5;28mprint\u001b[39m(\u001b[38;5;28mround\u001b[39m(anf\u001b[38;5;241m.\u001b[39mconsequents[\u001b[38;5;241m-\u001b[39m\u001b[38;5;241m1\u001b[39m][\u001b[38;5;241m0\u001b[39m],\u001b[38;5;241m6\u001b[39m))\n\u001b[1;32m      9\u001b[0m \u001b[38;5;28mprint\u001b[39m(\u001b[38;5;28mround\u001b[39m(anf\u001b[38;5;241m.\u001b[39mconsequents[\u001b[38;5;241m-\u001b[39m\u001b[38;5;241m2\u001b[39m][\u001b[38;5;241m0\u001b[39m],\u001b[38;5;241m6\u001b[39m))\n",
      "File \u001b[0;32m/Library/Frameworks/Python.framework/Versions/3.9/lib/python3.9/site-packages/anfis/anfis2.py:81\u001b[0m, in \u001b[0;36mANFIS.trainHybridJangOffLine\u001b[0;34m(self, epochs, tolerance, initialGamma, k)\u001b[0m\n\u001b[1;32m     79\u001b[0m \u001b[38;5;28;01mif\u001b[39;00m convergence \u001b[38;5;129;01mis\u001b[39;00m \u001b[38;5;129;01mnot\u001b[39;00m \u001b[38;5;28;01mTrue\u001b[39;00m:\n\u001b[1;32m     80\u001b[0m     cols \u001b[38;5;241m=\u001b[39m \u001b[38;5;28mrange\u001b[39m(\u001b[38;5;28mlen\u001b[39m(\u001b[38;5;28mself\u001b[39m\u001b[38;5;241m.\u001b[39mX[\u001b[38;5;241m0\u001b[39m,:]))\n\u001b[0;32m---> 81\u001b[0m     dE_dAlpha \u001b[38;5;241m=\u001b[39m \u001b[38;5;28;43mlist\u001b[39;49m\u001b[43m(\u001b[49m\u001b[43mbackprop\u001b[49m\u001b[43m(\u001b[49m\u001b[38;5;28;43mself\u001b[39;49m\u001b[43m,\u001b[49m\u001b[43m \u001b[49m\u001b[43mcolX\u001b[49m\u001b[43m,\u001b[49m\u001b[43m \u001b[49m\u001b[43mcols\u001b[49m\u001b[43m,\u001b[49m\u001b[43m \u001b[49m\u001b[43mwSum\u001b[49m\u001b[43m,\u001b[49m\u001b[43m \u001b[49m\u001b[43mw\u001b[49m\u001b[43m,\u001b[49m\u001b[43m \u001b[49m\u001b[43mlayerFive\u001b[49m\u001b[43m)\u001b[49m\u001b[43m \u001b[49m\u001b[38;5;28;43;01mfor\u001b[39;49;00m\u001b[43m \u001b[49m\u001b[43mcolX\u001b[49m\u001b[43m \u001b[49m\u001b[38;5;129;43;01min\u001b[39;49;00m\u001b[43m \u001b[49m\u001b[38;5;28;43mrange\u001b[39;49m\u001b[43m(\u001b[49m\u001b[38;5;28;43mself\u001b[39;49m\u001b[38;5;241;43m.\u001b[39;49m\u001b[43mX\u001b[49m\u001b[38;5;241;43m.\u001b[39;49m\u001b[43mshape\u001b[49m\u001b[43m[\u001b[49m\u001b[38;5;241;43m1\u001b[39;49m\u001b[43m]\u001b[49m\u001b[43m)\u001b[49m\u001b[43m)\u001b[49m\n\u001b[1;32m     84\u001b[0m \u001b[38;5;28;01mif\u001b[39;00m \u001b[38;5;28mlen\u001b[39m(\u001b[38;5;28mself\u001b[39m\u001b[38;5;241m.\u001b[39merrors) \u001b[38;5;241m>\u001b[39m\u001b[38;5;241m=\u001b[39m \u001b[38;5;241m4\u001b[39m:\n\u001b[1;32m     85\u001b[0m     \u001b[38;5;28;01mif\u001b[39;00m (\u001b[38;5;28mself\u001b[39m\u001b[38;5;241m.\u001b[39merrors[\u001b[38;5;241m-\u001b[39m\u001b[38;5;241m4\u001b[39m] \u001b[38;5;241m>\u001b[39m \u001b[38;5;28mself\u001b[39m\u001b[38;5;241m.\u001b[39merrors[\u001b[38;5;241m-\u001b[39m\u001b[38;5;241m3\u001b[39m] \u001b[38;5;241m>\u001b[39m \u001b[38;5;28mself\u001b[39m\u001b[38;5;241m.\u001b[39merrors[\u001b[38;5;241m-\u001b[39m\u001b[38;5;241m2\u001b[39m] \u001b[38;5;241m>\u001b[39m \u001b[38;5;28mself\u001b[39m\u001b[38;5;241m.\u001b[39merrors[\u001b[38;5;241m-\u001b[39m\u001b[38;5;241m1\u001b[39m]):\n",
      "File \u001b[0;32m/Library/Frameworks/Python.framework/Versions/3.9/lib/python3.9/site-packages/anfis/anfis2.py:81\u001b[0m, in \u001b[0;36m<genexpr>\u001b[0;34m(.0)\u001b[0m\n\u001b[1;32m     79\u001b[0m \u001b[38;5;28;01mif\u001b[39;00m convergence \u001b[38;5;129;01mis\u001b[39;00m \u001b[38;5;129;01mnot\u001b[39;00m \u001b[38;5;28;01mTrue\u001b[39;00m:\n\u001b[1;32m     80\u001b[0m     cols \u001b[38;5;241m=\u001b[39m \u001b[38;5;28mrange\u001b[39m(\u001b[38;5;28mlen\u001b[39m(\u001b[38;5;28mself\u001b[39m\u001b[38;5;241m.\u001b[39mX[\u001b[38;5;241m0\u001b[39m,:]))\n\u001b[0;32m---> 81\u001b[0m     dE_dAlpha \u001b[38;5;241m=\u001b[39m \u001b[38;5;28mlist\u001b[39m(\u001b[43mbackprop\u001b[49m\u001b[43m(\u001b[49m\u001b[38;5;28;43mself\u001b[39;49m\u001b[43m,\u001b[49m\u001b[43m \u001b[49m\u001b[43mcolX\u001b[49m\u001b[43m,\u001b[49m\u001b[43m \u001b[49m\u001b[43mcols\u001b[49m\u001b[43m,\u001b[49m\u001b[43m \u001b[49m\u001b[43mwSum\u001b[49m\u001b[43m,\u001b[49m\u001b[43m \u001b[49m\u001b[43mw\u001b[49m\u001b[43m,\u001b[49m\u001b[43m \u001b[49m\u001b[43mlayerFive\u001b[49m\u001b[43m)\u001b[49m \u001b[38;5;28;01mfor\u001b[39;00m colX \u001b[38;5;129;01min\u001b[39;00m \u001b[38;5;28mrange\u001b[39m(\u001b[38;5;28mself\u001b[39m\u001b[38;5;241m.\u001b[39mX\u001b[38;5;241m.\u001b[39mshape[\u001b[38;5;241m1\u001b[39m]))\n\u001b[1;32m     84\u001b[0m \u001b[38;5;28;01mif\u001b[39;00m \u001b[38;5;28mlen\u001b[39m(\u001b[38;5;28mself\u001b[39m\u001b[38;5;241m.\u001b[39merrors) \u001b[38;5;241m>\u001b[39m\u001b[38;5;241m=\u001b[39m \u001b[38;5;241m4\u001b[39m:\n\u001b[1;32m     85\u001b[0m     \u001b[38;5;28;01mif\u001b[39;00m (\u001b[38;5;28mself\u001b[39m\u001b[38;5;241m.\u001b[39merrors[\u001b[38;5;241m-\u001b[39m\u001b[38;5;241m4\u001b[39m] \u001b[38;5;241m>\u001b[39m \u001b[38;5;28mself\u001b[39m\u001b[38;5;241m.\u001b[39merrors[\u001b[38;5;241m-\u001b[39m\u001b[38;5;241m3\u001b[39m] \u001b[38;5;241m>\u001b[39m \u001b[38;5;28mself\u001b[39m\u001b[38;5;241m.\u001b[39merrors[\u001b[38;5;241m-\u001b[39m\u001b[38;5;241m2\u001b[39m] \u001b[38;5;241m>\u001b[39m \u001b[38;5;28mself\u001b[39m\u001b[38;5;241m.\u001b[39merrors[\u001b[38;5;241m-\u001b[39m\u001b[38;5;241m1\u001b[39m]):\n",
      "File \u001b[0;32m/Library/Frameworks/Python.framework/Versions/3.9/lib/python3.9/site-packages/anfis/anfis2.py:230\u001b[0m, in \u001b[0;36mbackprop\u001b[0;34m(ANFISObj, columnX, columns, theWSum, theW, theLayerFive)\u001b[0m\n\u001b[1;32m    228\u001b[0m bucket1 \u001b[38;5;241m=\u001b[39m np\u001b[38;5;241m.\u001b[39mempty(\u001b[38;5;28mlen\u001b[39m(ANFISObj\u001b[38;5;241m.\u001b[39mrules[:,\u001b[38;5;241m0\u001b[39m]))\n\u001b[1;32m    229\u001b[0m \u001b[38;5;28;01mfor\u001b[39;00m consequent \u001b[38;5;129;01min\u001b[39;00m \u001b[38;5;28mrange\u001b[39m(\u001b[38;5;28mlen\u001b[39m(ANFISObj\u001b[38;5;241m.\u001b[39mrules[:,\u001b[38;5;241m0\u001b[39m])):\n\u001b[0;32m--> 230\u001b[0m     fConsequent \u001b[38;5;241m=\u001b[39m np\u001b[38;5;241m.\u001b[39mdot(\u001b[43mnp\u001b[49m\u001b[38;5;241;43m.\u001b[39;49m\u001b[43mappend\u001b[49m\u001b[43m(\u001b[49m\u001b[43mANFISObj\u001b[49m\u001b[38;5;241;43m.\u001b[39;49m\u001b[43mX\u001b[49m\u001b[43m[\u001b[49m\u001b[43mrowX\u001b[49m\u001b[43m,\u001b[49m\u001b[43m:\u001b[49m\u001b[43m]\u001b[49m\u001b[43m,\u001b[49m\u001b[38;5;241;43m1.\u001b[39;49m\u001b[43m)\u001b[49m,ANFISObj\u001b[38;5;241m.\u001b[39mconsequents[((ANFISObj\u001b[38;5;241m.\u001b[39mX\u001b[38;5;241m.\u001b[39mshape[\u001b[38;5;241m1\u001b[39m] \u001b[38;5;241m+\u001b[39m \u001b[38;5;241m1\u001b[39m) \u001b[38;5;241m*\u001b[39m consequent):(((ANFISObj\u001b[38;5;241m.\u001b[39mX\u001b[38;5;241m.\u001b[39mshape[\u001b[38;5;241m1\u001b[39m] \u001b[38;5;241m+\u001b[39m \u001b[38;5;241m1\u001b[39m) \u001b[38;5;241m*\u001b[39m consequent) \u001b[38;5;241m+\u001b[39m (ANFISObj\u001b[38;5;241m.\u001b[39mX\u001b[38;5;241m.\u001b[39mshape[\u001b[38;5;241m1\u001b[39m] \u001b[38;5;241m+\u001b[39m \u001b[38;5;241m1\u001b[39m)),colY])\n\u001b[1;32m    231\u001b[0m     acum \u001b[38;5;241m=\u001b[39m \u001b[38;5;241m0\u001b[39m\n\u001b[1;32m    232\u001b[0m     \u001b[38;5;28;01mif\u001b[39;00m consequent \u001b[38;5;129;01min\u001b[39;00m rulesWithAlpha:\n",
      "File \u001b[0;32m<__array_function__ internals>:5\u001b[0m, in \u001b[0;36mappend\u001b[0;34m(*args, **kwargs)\u001b[0m\n",
      "File \u001b[0;32m/Library/Frameworks/Python.framework/Versions/3.9/lib/python3.9/site-packages/numpy/lib/function_base.py:4739\u001b[0m, in \u001b[0;36mappend\u001b[0;34m(arr, values, axis)\u001b[0m\n\u001b[1;32m   4690\u001b[0m \u001b[38;5;129m@array_function_dispatch\u001b[39m(_append_dispatcher)\n\u001b[1;32m   4691\u001b[0m \u001b[38;5;28;01mdef\u001b[39;00m \u001b[38;5;21mappend\u001b[39m(arr, values, axis\u001b[38;5;241m=\u001b[39m\u001b[38;5;28;01mNone\u001b[39;00m):\n\u001b[1;32m   4692\u001b[0m     \u001b[38;5;124;03m\"\"\"\u001b[39;00m\n\u001b[1;32m   4693\u001b[0m \u001b[38;5;124;03m    Append values to the end of an array.\u001b[39;00m\n\u001b[1;32m   4694\u001b[0m \n\u001b[0;32m   (...)\u001b[0m\n\u001b[1;32m   4737\u001b[0m \n\u001b[1;32m   4738\u001b[0m \u001b[38;5;124;03m    \"\"\"\u001b[39;00m\n\u001b[0;32m-> 4739\u001b[0m     arr \u001b[38;5;241m=\u001b[39m \u001b[43masanyarray\u001b[49m\u001b[43m(\u001b[49m\u001b[43marr\u001b[49m\u001b[43m)\u001b[49m\n\u001b[1;32m   4740\u001b[0m     \u001b[38;5;28;01mif\u001b[39;00m axis \u001b[38;5;129;01mis\u001b[39;00m \u001b[38;5;28;01mNone\u001b[39;00m:\n\u001b[1;32m   4741\u001b[0m         \u001b[38;5;28;01mif\u001b[39;00m arr\u001b[38;5;241m.\u001b[39mndim \u001b[38;5;241m!=\u001b[39m \u001b[38;5;241m1\u001b[39m:\n",
      "File \u001b[0;32m/Library/Frameworks/Python.framework/Versions/3.9/lib/python3.9/site-packages/numpy/core/_asarray.py:110\u001b[0m, in \u001b[0;36masanyarray\u001b[0;34m(a, dtype, order, like)\u001b[0m\n\u001b[1;32m    102\u001b[0m     \u001b[38;5;28;01mreturn\u001b[39;00m array(a, dtype, copy\u001b[38;5;241m=\u001b[39m\u001b[38;5;28;01mFalse\u001b[39;00m, order\u001b[38;5;241m=\u001b[39morder)\n\u001b[1;32m    105\u001b[0m _asarray_with_like \u001b[38;5;241m=\u001b[39m array_function_dispatch(\n\u001b[1;32m    106\u001b[0m     _asarray_dispatcher\n\u001b[1;32m    107\u001b[0m )(asarray)\n\u001b[0;32m--> 110\u001b[0m \u001b[38;5;129m@set_array_function_like_doc\u001b[39m\n\u001b[1;32m    111\u001b[0m \u001b[38;5;129m@set_module\u001b[39m(\u001b[38;5;124m'\u001b[39m\u001b[38;5;124mnumpy\u001b[39m\u001b[38;5;124m'\u001b[39m)\n\u001b[1;32m    112\u001b[0m \u001b[38;5;28;01mdef\u001b[39;00m \u001b[38;5;21masanyarray\u001b[39m(a, dtype\u001b[38;5;241m=\u001b[39m\u001b[38;5;28;01mNone\u001b[39;00m, order\u001b[38;5;241m=\u001b[39m\u001b[38;5;28;01mNone\u001b[39;00m, \u001b[38;5;241m*\u001b[39m, like\u001b[38;5;241m=\u001b[39m\u001b[38;5;28;01mNone\u001b[39;00m):\n\u001b[1;32m    113\u001b[0m     \u001b[38;5;124;03m\"\"\"Convert the input to an ndarray, but pass ndarray subclasses through.\u001b[39;00m\n\u001b[1;32m    114\u001b[0m \n\u001b[1;32m    115\u001b[0m \u001b[38;5;124;03m    Parameters\u001b[39;00m\n\u001b[0;32m   (...)\u001b[0m\n\u001b[1;32m    166\u001b[0m \n\u001b[1;32m    167\u001b[0m \u001b[38;5;124;03m    \"\"\"\u001b[39;00m\n\u001b[1;32m    168\u001b[0m     \u001b[38;5;28;01mif\u001b[39;00m like \u001b[38;5;129;01mis\u001b[39;00m \u001b[38;5;129;01mnot\u001b[39;00m \u001b[38;5;28;01mNone\u001b[39;00m:\n",
      "\u001b[0;31mKeyboardInterrupt\u001b[0m: "
     ]
    }
   ],
   "source": [
    "mf = [[['gaussmf',{'mean':0.,'sigma':1.}],['gaussmf',{'mean':-1.,'sigma':2.}],['gaussmf',{'mean':-4.,'sigma':10.}],['gaussmf',{'mean':-7.,'sigma':7.}]],\n",
    "            [['gaussmf',{'mean':1.,'sigma':2.}],['gaussmf',{'mean':2.,'sigma':3.}],['gaussmf',{'mean':-2.,'sigma':10.}],['gaussmf',{'mean':-10.5,'sigma':5.}]]]\n",
    "\n",
    "\n",
    "mfc = anfis.membershipfunction.MemFuncs(mf)\n",
    "anf = anfis2.ANFIS(R, R1, mfc)\n",
    "anf.trainHybridJangOffLine(epochs=20)\n",
    "print(round(anf.consequents[-1][0],6))\n",
    "print(round(anf.consequents[-2][0],6))\n",
    "print(round(anf.fittedValues[9][0],6))\n",
    "if round(anf.consequents[-1][0],6) == -5.275538 and round(anf.consequents[-2][0],6) == -1.990703 and round(anf.fittedValues[9][0],6) == 0.002249:\n",
    "\tprint('test is good')\n",
    "\n",
    "print(\"Plotting errors\")\n",
    "anf.plotErrors()\n",
    "print(\"Plotting results\")\n",
    "anf.plotResults()\n",
    "\n",
    "print(anf.fittedValues[9][0],6)"
   ]
  },
  {
   "cell_type": "code",
   "execution_count": 1,
   "id": "3ddc4766",
   "metadata": {},
   "outputs": [
    {
     "ename": "NameError",
     "evalue": "name 'anf' is not defined",
     "output_type": "error",
     "traceback": [
      "\u001b[0;31m---------------------------------------------------------------------------\u001b[0m",
      "\u001b[0;31mNameError\u001b[0m                                 Traceback (most recent call last)",
      "Input \u001b[0;32mIn [1]\u001b[0m, in \u001b[0;36m<cell line: 1>\u001b[0;34m()\u001b[0m\n\u001b[0;32m----> 1\u001b[0m \u001b[38;5;28mprint\u001b[39m(\u001b[43manf\u001b[49m)\n",
      "\u001b[0;31mNameError\u001b[0m: name 'anf' is not defined"
     ]
    }
   ],
   "source": [
    "print(anf)"
   ]
  }
 ],
 "metadata": {
  "kernelspec": {
   "display_name": "Python 3 (ipykernel)",
   "language": "python",
   "name": "python3"
  },
  "language_info": {
   "codemirror_mode": {
    "name": "ipython",
    "version": 3
   },
   "file_extension": ".py",
   "mimetype": "text/x-python",
   "name": "python",
   "nbconvert_exporter": "python",
   "pygments_lexer": "ipython3",
   "version": "3.9.5"
  }
 },
 "nbformat": 4,
 "nbformat_minor": 5
}
